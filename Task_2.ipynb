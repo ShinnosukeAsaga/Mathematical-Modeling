{
  "cells": [
    {
      "cell_type": "markdown",
      "metadata": {
        "id": "view-in-github",
        "colab_type": "text"
      },
      "source": [
        "<a href=\"https://colab.research.google.com/github/ShinnosukeAsaga/Mathematical-Modeling/blob/main/Task_2.ipynb\" target=\"_parent\"><img src=\"https://colab.research.google.com/assets/colab-badge.svg\" alt=\"Open In Colab\"/></a>"
      ]
    },
    {
      "cell_type": "code",
      "execution_count": null,
      "metadata": {
        "id": "TWmi38dFySmr"
      },
      "outputs": [],
      "source": [
        "import numpy as np\n",
        "import matplotlib.pyplot as plt\n",
        "import matplotlib.animation as animation"
      ]
    },
    {
      "cell_type": "code",
      "execution_count": null,
      "metadata": {
        "id": "WLTuKYEeySmt"
      },
      "outputs": [],
      "source": [
        "#Parameter setup\n",
        "road_length =100   #Length of the road\n",
        "spead_max =5        #Maximum　Speed\n",
        "car_density  = 0.3   #Random Slowdown Chance\n",
        "steps =200          #Simulation Steps\n",
        "p_slow = 0.2        #The probability of randomly decelerating"
      ]
    },
    {
      "cell_type": "code",
      "execution_count": null,
      "metadata": {
        "id": "WIWMC2vFySmu"
      },
      "outputs": [],
      "source": [
        "# Initialize (-1 is an empty cell)\n",
        "num_cars = int(road_length * p_slow  )\n",
        "road = -np.ones(road_length, dtype=int)\n",
        "car_positions = np.random.choice(road_length, num_cars, replace=False)\n",
        "road[car_positions] = np.random.randint(0, spead_max + 1, size=num_cars)"
      ]
    },
    {
      "cell_type": "code",
      "execution_count": null,
      "metadata": {
        "id": "BAQD8JDqySmu"
      },
      "outputs": [],
      "source": [
        "# Space-time data\n",
        "space_time = np.zeros((steps, road_length), dtype=int)\n",
        "road_history = []\n"
      ]
    },
    {
      "cell_type": "markdown",
      "metadata": {
        "id": "PB7XOXdqySmv"
      },
      "source": [
        "### Nagel-Schreckenberg Model: Update Rules\n",
        "\n",
        "The update for each vehicle *i* proceeds in four steps at each time *t*:\n",
        "\n",
        "---\n",
        "\n",
        "#### 1. Acceleration\n",
        "\n",
        "$$\n",
        "v_{i}(t+1) = \\min \\left\\{ v_{i}(t) + 1,\\ v_{\\text{max}} \\right\\}\n",
        "$$\n",
        "\n",
        "- $ v_{i}(t)$　 Speed of vehicle *i* at time\n",
        "- $ v_{\\text{max}} $: Maximum allowed speed\n",
        "\n",
        "---\n",
        "\n",
        "#### 2. Slowing Down (Due to Other Vehicles)\n",
        "\n",
        "$$\n",
        "v_{i}(t+1) = \\min \\left\\{ v_{i}(t+1),\\ d_{i}(t) \\right\\}\n",
        "$$\n",
        "\n",
        "- $ d_{i}(t) $: Number of empty cells in front of vehicle *i*  \n",
        "  (i.e., distance to the next vehicle in front minus 1)\n",
        "\n",
        "This prevents collisions by ensuring the vehicle does not move farther than the gap.\n",
        "\n",
        "---\n",
        "\n",
        "#### 3. Randomization (Stochastic Braking)\n",
        "\n",
        "With probability $ p $, the speed is reduced by 1:\n",
        "\n",
        "$$\n",
        "v_{i}(t+1) =\n",
        "\\begin{cases}\n",
        "\\max \\left\\{ v_{i}(t+1) - 1,\\ 0 \\right\\}, & \\text{with probability } p \\\\\n",
        "v_{i}(t+1), & \\text{with probability } 1 - p\n",
        "\\end{cases}\n",
        "$$\n",
        "\n",
        "- $ p $: Random slowdown probability (e.g., 0.25)\n",
        "\n",
        "This introduces variability in driver behavior.\n",
        "\n",
        "---\n",
        "\n",
        "#### 4. Vehicle Movement\n",
        "\n",
        "After updating speed, the vehicle moves:\n",
        "\n",
        "$$\n",
        "x_{i}(t+1) = x_{i}(t) + v_{i}(t+1)\n",
        "$$\n",
        "\n",
        "- $ x_{i}(t) $: Position of vehicle *i* at time \\( t \\)\n",
        "\n",
        "The vehicle advances by its updated speed.\n",
        "\n",
        "---\n"
      ]
    },
    {
      "cell_type": "code",
      "execution_count": null,
      "metadata": {
        "id": "1ZFw9AA5ySmw"
      },
      "outputs": [],
      "source": [
        "# Simulation\n",
        "for t in range(steps):\n",
        "    space_time[t] = road >= 0\n",
        "    road_history.append(road >= 0)\n",
        "\n",
        "    new_road = -np.ones(road_length, dtype=int)\n",
        "\n",
        "    for i in range(road_length):\n",
        "        if road[i] >= 0:\n",
        "            v = road[i]\n",
        "            #Rule1 acceleration\n",
        "            v = min(v + 1, spead_max)\n",
        "            #Rule2 Slow down\n",
        "            for d in range(1, v + 1):\n",
        "                if road[(i + d) % road_length] >= 0:\n",
        "                    v = d - 1\n",
        "                    break\n",
        "            #Rule3 Random Deceleration\n",
        "            if np.random.rand() < p_slow:\n",
        "                v = max(v - 1, 0)\n",
        "            #Rule4 Movement\n",
        "            new_pos = (i + v) % road_length\n",
        "            new_road[new_pos] = v\n",
        "\n",
        "    road = new_road"
      ]
    },
    {
      "cell_type": "code",
      "execution_count": null,
      "metadata": {
        "id": "UDbeo54MySmx"
      },
      "outputs": [],
      "source": [
        "# Save as PNG\n",
        "plt.figure(figsize=(10, 6))\n",
        "plt.imshow(space_time, cmap='gray_r', interpolation='none', aspect='auto')\n",
        "plt.title(\"Nagel-Schreckenberg Model Spacetime Diagram\", fontname='IPAPGothic')\n",
        "plt.xlabel(\"Position\", fontname='IPAPGothic')\n",
        "plt.ylabel(\"time\", fontname='IPAPGothic')\n",
        "plt.tight_layout()\n",
        "plt.savefig(\"nagel_schreckenberg_space_time.png\", dpi=300)\n",
        "plt.close()"
      ]
    },
    {
      "cell_type": "code",
      "execution_count": null,
      "metadata": {
        "id": "eGNvNsrpySmx"
      },
      "outputs": [],
      "source": [
        "# MP4 Animation Generation\n",
        "fig, ax = plt.subplots()\n",
        "img = ax.imshow(road_history[0].reshape(1, -1), cmap='gray_r', interpolation='none', aspect='auto')\n",
        "ax.set_title(\"Nagel-Schreckenberg Animation\", fontname='IPAPGothic')\n",
        "ax.set_yticks([])\n",
        "ax.set_xlabel(\"Position\", fontname='IPAPGothic')\n",
        "\n",
        "def update(frame):\n",
        "    img.set_array(road_history[frame].reshape(1, -1))\n",
        "    return [img]\n",
        "\n",
        "ani = animation.FuncAnimation(fig, update, frames=steps, interval=100, blit=True)"
      ]
    },
    {
      "cell_type": "code",
      "execution_count": null,
      "metadata": {
        "collapsed": true,
        "id": "vH72CDUmySmy"
      },
      "outputs": [],
      "source": [
        "# Save as movie (FFmpeg is required.)\n",
        "ani.save(\"nagel_schreckenberg_animation.gif\", writer='pillow', dpi=200)\n",
        "\n",
        "\n",
        "plt.close()\n"
      ]
    }
  ],
  "metadata": {
    "kernelspec": {
      "display_name": "Python 3 (ipykernel)",
      "language": "python",
      "name": "python3"
    },
    "language_info": {
      "codemirror_mode": {
        "name": "ipython",
        "version": 3
      },
      "file_extension": ".py",
      "mimetype": "text/x-python",
      "name": "python",
      "nbconvert_exporter": "python",
      "pygments_lexer": "ipython3",
      "version": "3.11.6"
    },
    "colab": {
      "provenance": [],
      "include_colab_link": true
    }
  },
  "nbformat": 4,
  "nbformat_minor": 0
}