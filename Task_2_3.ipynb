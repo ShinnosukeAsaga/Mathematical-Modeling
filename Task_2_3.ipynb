{
  "cells": [
    {
      "cell_type": "markdown",
      "metadata": {
        "id": "view-in-github",
        "colab_type": "text"
      },
      "source": [
        "<a href=\"https://colab.research.google.com/github/ShinnosukeAsaga/Mathematical-Modeling/blob/main/Task_2_3.ipynb\" target=\"_parent\"><img src=\"https://colab.research.google.com/assets/colab-badge.svg\" alt=\"Open In Colab\"/></a>"
      ]
    },
    {
      "cell_type": "code",
      "execution_count": null,
      "metadata": {
        "id": "TWmi38dFySmr"
      },
      "outputs": [],
      "source": [
        "import numpy as np\n",
        "import matplotlib.pyplot as plt\n",
        "import matplotlib.animation as animation"
      ]
    },
    {
      "cell_type": "code",
      "execution_count": null,
      "metadata": {
        "id": "WLTuKYEeySmt"
      },
      "outputs": [],
      "source": [
        "#Parameter setup\n",
        "road_length = 100 #Length of the road\n",
        "num_lanes = 2\n",
        "p_slow = 0.3 #Random Slowdown Chance\n",
        "spead_max  = 5    #Maximum　Speed\n",
        "num_steps = 100\n",
        "signal_positions = [30, 70]\n",
        "signal_cycle = 20  # red:10, blue:10"
      ]
    },
    {
      "cell_type": "code",
      "execution_count": null,
      "metadata": {
        "id": "WIWMC2vFySmu"
      },
      "outputs": [],
      "source": [
        "# Set Up\n",
        "road = -np.ones((num_lanes, road_length), dtype=int)\n",
        "car_positions = []\n",
        "for lane in range(num_lanes):\n",
        "    count = 0\n",
        "    while count < int(road_length * p_slow):\n",
        "        pos = np.random.randint(0, road_length)\n",
        "        if road[lane, pos] == -1:\n",
        "            road[lane, pos] = np.random.randint(0, spead_max + 1)\n",
        "            car_positions.append((lane, pos))\n",
        "            count += 1"
      ]
    },
    {
      "cell_type": "code",
      "execution_count": null,
      "metadata": {
        "id": "BAQD8JDqySmu",
        "colab": {
          "base_uri": "https://localhost:8080/",
          "height": 86
        },
        "outputId": "6c54548e-58ca-461d-d413-0bc271de9375"
      },
      "outputs": [
        {
          "output_type": "execute_result",
          "data": {
            "text/plain": [
              "[]"
            ]
          },
          "metadata": {},
          "execution_count": 23
        },
        {
          "output_type": "display_data",
          "data": {
            "text/plain": [
              "<Figure size 1000x200 with 1 Axes>"
            ],
            "image/png": "[encoded data removed]"
          },
          "metadata": {}
        }
      ],
      "source": [
        "from matplotlib.colors import ListedColormap, BoundaryNorm\n",
        "\n",
        "# 赤（停止=0）、黄（1,2）、緑（3以上）、灰色（-1：空き）\n",
        "cmap = ListedColormap(['gray', 'red', 'yellow', 'yellow', 'green', 'green', 'green'])\n",
        "norm = BoundaryNorm([-1.5, -0.5, 0.5, 2.5, 3.5, 4.5, 5.5], cmap.N)\n",
        "\n",
        "# 信号位置\n",
        "signal_positions = [30, 70]\n",
        "\n",
        "# 描画\n",
        "fig, ax = plt.subplots(figsize=(10, 2))\n",
        "im = ax.imshow(road, cmap=cmap, norm=norm)\n",
        "\n",
        "# 信号のラベル表示\n",
        "ax.set_xticks(signal_positions)\n",
        "ax.set_xticklabels(['S'] * len(signal_positions), fontsize=12, color='red')\n",
        "\n",
        "# 不要なY軸目盛りを消す\n",
        "ax.set_yticks([])\n"
      ]
    },
    {
      "cell_type": "code",
      "execution_count": null,
      "metadata": {
        "id": "1ZFw9AA5ySmw"
      },
      "outputs": [],
      "source": [
        "def update(frame):\n",
        "    global road\n",
        "    new_road = -np.ones_like(road)\n",
        "    red_signals = [(pos, frame % signal_cycle < signal_cycle // 2) for pos in signal_positions]\n",
        "\n",
        "    for lane in range(num_lanes):\n",
        "        for x in range(road_length):\n",
        "            v = road[lane, x]\n",
        "            if v >= 0:\n",
        "                d = 1\n",
        "                while d <= spead_max and (x + d) % road_length not in np.where(road[lane] >= 0)[0]:\n",
        "                    d += 1\n",
        "                #Rule1 acceleration\n",
        "                new_v = min(v + 1, d - 1, spead_max)\n",
        "                if np.random.rand() < 0.3:\n",
        "                    new_v = max(0, new_v - 1)\n",
        "                #Rule2 Slow down\n",
        "                #Rule3 Random Deceleration\n",
        "                #Rule4 Movement\n",
        "                new_x = (x + new_v) % road_length\n",
        "                stop = False\n",
        "                for pos, is_red in red_signals:\n",
        "                    if is_red and x < pos <= new_x:\n",
        "                        stop = True\n",
        "                        new_x = pos - 1\n",
        "                        new_v = max(0, pos - x - 1)\n",
        "                if new_road[lane, new_x] == -1:\n",
        "                    new_road[lane, new_x] = new_v\n",
        "                else:\n",
        "                    new_road[lane, x] = v\n",
        "\n",
        "    im.set_array(new_road)\n",
        "    road = new_road\n",
        "    return [im]\n",
        "\n",
        "ani = animation.FuncAnimation(fig, update, frames=num_steps, interval=200, blit=True)\n"
      ]
    },
    {
      "cell_type": "markdown",
      "metadata": {
        "id": "PB7XOXdqySmv"
      },
      "source": [
        "### Nagel-Schreckenberg Model: Update Rules\n",
        "\n",
        "The update for each vehicle *i* proceeds in four steps at each time *t*:\n",
        "\n",
        "---\n",
        "\n",
        "#### 1. Acceleration\n",
        "\n",
        "$$\n",
        "v_{i}(t+1) = \\min \\left\\{ v_{i}(t) + 1,\\ v_{\\text{max}} \\right\\}\n",
        "$$\n",
        "\n",
        "- $ v_{i}(t)$　 Speed of vehicle *i* at time\n",
        "- $ v_{\\text{max}} $: Maximum allowed speed\n",
        "\n",
        "---\n",
        "\n",
        "#### 2. Slowing Down (Due to Other Vehicles)\n",
        "\n",
        "$$\n",
        "v_{i}(t+1) = \\min \\left\\{ v_{i}(t+1),\\ d_{i}(t) \\right\\}\n",
        "$$\n",
        "\n",
        "- $ d_{i}(t) $: Number of empty cells in front of vehicle *i*  \n",
        "  (i.e., distance to the next vehicle in front minus 1)\n",
        "\n",
        "This prevents collisions by ensuring the vehicle does not move farther than the gap.\n",
        "\n",
        "---\n",
        "\n",
        "#### 3. Randomization (Stochastic Braking)\n",
        "\n",
        "With probability $ p $, the speed is reduced by 1:\n",
        "\n",
        "$$\n",
        "v_{i}(t+1) =\n",
        "\\begin{cases}\n",
        "\\max \\left\\{ v_{i}(t+1) - 1,\\ 0 \\right\\}, & \\text{with probability } p \\\\\n",
        "v_{i}(t+1), & \\text{with probability } 1 - p\n",
        "\\end{cases}\n",
        "$$\n",
        "\n",
        "- $ p $: Random slowdown probability (e.g., 0.25)\n",
        "\n",
        "This introduces variability in driver behavior.\n",
        "\n",
        "---\n",
        "\n",
        "#### 4. Vehicle Movement\n",
        "\n",
        "After updating speed, the vehicle moves:\n",
        "\n",
        "$$\n",
        "x_{i}(t+1) = x_{i}(t) + v_{i}(t+1)\n",
        "$$\n",
        "\n",
        "- $ x_{i}(t) $: Position of vehicle *i* at time \\( t \\)\n",
        "\n",
        "The vehicle advances by its updated speed.\n",
        "\n",
        "---\n"
      ]
    },
    {
      "cell_type": "code",
      "execution_count": null,
      "metadata": {
        "id": "fgLYE0o4MV3E"
      },
      "outputs": [],
      "source": [
        "#Save\n",
        "ani.save(\"nagel_schreckenberg_animation.mp4\", writer='ffmpeg', dpi=200)\n",
        "plt.close()"
      ]
    }
  ],
  "metadata": {
    "colab": {
      "provenance": [],
      "include_colab_link": true
    },
    "kernelspec": {
      "display_name": "Python 3 (ipykernel)",
      "language": "python",
      "name": "python3"
    },
    "language_info": {
      "codemirror_mode": {
        "name": "ipython",
        "version": 3
      },
      "file_extension": ".py",
      "mimetype": "text/x-python",
      "name": "python",
      "nbconvert_exporter": "python",
      "pygments_lexer": "ipython3",
      "version": "3.13.3"
    }
  },
  "nbformat": 4,
  "nbformat_minor": 0
}