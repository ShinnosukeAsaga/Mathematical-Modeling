{
 "cells": [
  {
   "cell_type": "code",
   "execution_count": 3,
   "id": "281a0b69-82df-4900-a7ad-0ae8042e8fa8",
   "metadata": {},
   "outputs": [
    {
     "data": {
      "text/plain": [
       "{a: -4/3, b: 11, c: -68/3, d: 15}"
      ]
     },
     "execution_count": 3,
     "metadata": {},
     "output_type": "execute_result"
    }
   ],
   "source": [
    "import sympy as sp\n",
    "\n",
    "# シンボル定義\n",
    "a, b, c, d = sp.symbols('a b c d')\n",
    "\n",
    "# データ\n",
    "data = [(1, 2), (2, 3), (3, 10), (4, 15)]\n",
    "\n",
    "# 方程式のリストを作成\n",
    "eqs = []\n",
    "for x_val, y_val in data:\n",
    "    eq = a*x_val**3 + b*x_val**2 + c*x_val + d - y_val\n",
    "    eqs.append(eq)\n",
    "\n",
    "# 方程式を連立で解く\n",
    "solution = sp.solve(eqs, (a, b, c, d))\n",
    "\n",
    "# 結果表示\n",
    "solution\n"
   ]
  },
  {
   "cell_type": "code",
   "execution_count": 4,
   "id": "5c722078-b0e8-43db-90ef-629cf87836b0",
   "metadata": {},
   "outputs": [
    {
     "name": "stdout",
     "output_type": "stream",
     "text": [
      "a ≈ -1.33333333333333\n",
      "b ≈ 11.0000000000000\n",
      "c ≈ -22.6666666666667\n",
      "d ≈ 15.0000000000000\n"
     ]
    }
   ],
   "source": [
    "for k, v in solution.items():\n",
    "    print(f\"{k} ≈ {v.evalf()}\")\n"
   ]
  },
  {
   "cell_type": "code",
   "execution_count": null,
   "id": "25fb7e9e-e83a-4407-96df-2c2bea84f547",
   "metadata": {},
   "outputs": [],
   "source": []
  }
 ],
 "metadata": {
  "kernelspec": {
   "display_name": "Python 3 (ipykernel)",
   "language": "python",
   "name": "python3"
  },
  "language_info": {
   "codemirror_mode": {
    "name": "ipython",
    "version": 3
   },
   "file_extension": ".py",
   "mimetype": "text/x-python",
   "name": "python",
   "nbconvert_exporter": "python",
   "pygments_lexer": "ipython3",
   "version": "3.13.3"
  }
 },
 "nbformat": 4,
 "nbformat_minor": 5
}
