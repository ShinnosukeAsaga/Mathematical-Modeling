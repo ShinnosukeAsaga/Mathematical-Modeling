{
 "cells": [
  {
   "cell_type": "code",
   "execution_count": 3,
   "id": "2a4800bf-24a3-4b37-9f92-9818813b5cc6",
   "metadata": {},
   "outputs": [
    {
     "name": "stdout",
     "output_type": "stream",
     "text": [
      "{x: 1, y: -2/5, z: 1}\n"
     ]
    }
   ],
   "source": [
    "import sympy\n",
    "\n",
    "x = sympy.Symbol('x') \n",
    "y = sympy.Symbol('y')\n",
    "z = sympy.Symbol('z')\n",
    "\n",
    "equation1 = 708*x + 200*y + 60*z -688\n",
    "equation2 = 60*x + 20*y +8*z- 60\n",
    "equation3 = 200*x+60*y+20*z-196\n",
    "\n",
    "print(sympy.solve([equation1, equation2,equation3]))"
   ]
  },
  {
   "cell_type": "code",
   "execution_count": 7,
   "id": "0f21c5bc-98ac-4d8d-b79d-cf8972d909f1",
   "metadata": {},
   "outputs": [
    {
     "name": "stdout",
     "output_type": "stream",
     "text": [
      "f(x) = (x + y + z - 2)**2 + (4*x + 2*y + z - 3)**2 + (9*x + 3*y + z - 10)**2 + (16*x + 4*y + z - 15)**2\n",
      "f'(x) = 708*x + 200*y + 60*z - 688\n",
      "f''(x) = 708\n",
      "\n"
     ]
    },
    {
     "name": "stderr",
     "output_type": "stream",
     "text": [
      "/usr/local/lib/python3.13/site-packages/sympy/core/basic.py:1262: SymPyDeprecationWarning: \n",
      "\n",
      "Using non-Expr arguments in Mul is deprecated (in this case, one of\n",
      "the arguments has type 'Dict').\n",
      "\n",
      "If you really did intend to use a multiplication or addition operation with\n",
      "this object, use the * or + operator instead.\n",
      "\n",
      "See https://docs.sympy.org/latest/explanation/active-deprecations.html#non-expr-args-deprecated\n",
      "for details.\n",
      "\n",
      "This has been deprecated since SymPy version 1.7. It\n",
      "will be removed in a future version of SymPy.\n",
      "\n",
      "  rv = self.func(*args)\n"
     ]
    },
    {
     "ename": "AttributeError",
     "evalue": "'Dict' object has no attribute 'as_coeff_Mul'",
     "output_type": "error",
     "traceback": [
      "\u001b[31m---------------------------------------------------------------------------\u001b[39m",
      "\u001b[31mAttributeError\u001b[39m                            Traceback (most recent call last)",
      "\u001b[36mCell\u001b[39m\u001b[36m \u001b[39m\u001b[32mIn[7]\u001b[39m\u001b[32m, line 23\u001b[39m\n\u001b[32m     20\u001b[39m \u001b[38;5;66;03m# すべての極値に対する処理\u001b[39;00m\n\u001b[32m     21\u001b[39m \u001b[38;5;28;01mfor\u001b[39;00m critical_point \u001b[38;5;129;01min\u001b[39;00m critical_points:\n\u001b[32m     22\u001b[39m     \u001b[38;5;66;03m# f(critical_point)を求める\u001b[39;00m\n\u001b[32m---> \u001b[39m\u001b[32m23\u001b[39m     f_x = \u001b[43mexpr\u001b[49m\u001b[43m.\u001b[49m\u001b[43msubs\u001b[49m\u001b[43m(\u001b[49m\u001b[43mx\u001b[49m\u001b[43m,\u001b[49m\u001b[43m \u001b[49m\u001b[43mcritical_point\u001b[49m\u001b[43m)\u001b[49m\n\u001b[32m     25\u001b[39m     \u001b[38;5;66;03m# f''(critical_point)を求める。（これは加速度に相当）\u001b[39;00m\n\u001b[32m     26\u001b[39m     alpha = diff_2.subs(x, critical_point)\n",
      "\u001b[36mFile \u001b[39m\u001b[32m/usr/local/lib/python3.13/site-packages/sympy/core/basic.py:1171\u001b[39m, in \u001b[36mBasic.subs\u001b[39m\u001b[34m(self, arg1, arg2, **kwargs)\u001b[39m\n\u001b[32m   1169\u001b[39m rv = \u001b[38;5;28mself\u001b[39m\n\u001b[32m   1170\u001b[39m \u001b[38;5;28;01mfor\u001b[39;00m old, new \u001b[38;5;129;01min\u001b[39;00m sequence:\n\u001b[32m-> \u001b[39m\u001b[32m1171\u001b[39m     rv = \u001b[43mrv\u001b[49m\u001b[43m.\u001b[49m\u001b[43m_subs\u001b[49m\u001b[43m(\u001b[49m\u001b[43mold\u001b[49m\u001b[43m,\u001b[49m\u001b[43m \u001b[49m\u001b[43mnew\u001b[49m\u001b[43m,\u001b[49m\u001b[43m \u001b[49m\u001b[43m*\u001b[49m\u001b[43m*\u001b[49m\u001b[43mkwargs\u001b[49m\u001b[43m)\u001b[49m\n\u001b[32m   1172\u001b[39m     \u001b[38;5;28;01mif\u001b[39;00m \u001b[38;5;129;01mnot\u001b[39;00m \u001b[38;5;28misinstance\u001b[39m(rv, Basic):\n\u001b[32m   1173\u001b[39m         \u001b[38;5;28;01mbreak\u001b[39;00m\n",
      "\u001b[36mFile \u001b[39m\u001b[32m/usr/local/lib/python3.13/site-packages/sympy/core/cache.py:72\u001b[39m, in \u001b[36m__cacheit.<locals>.func_wrapper.<locals>.wrapper\u001b[39m\u001b[34m(*args, **kwargs)\u001b[39m\n\u001b[32m     69\u001b[39m \u001b[38;5;129m@wraps\u001b[39m(func)\n\u001b[32m     70\u001b[39m \u001b[38;5;28;01mdef\u001b[39;00m\u001b[38;5;250m \u001b[39m\u001b[34mwrapper\u001b[39m(*args, **kwargs):\n\u001b[32m     71\u001b[39m     \u001b[38;5;28;01mtry\u001b[39;00m:\n\u001b[32m---> \u001b[39m\u001b[32m72\u001b[39m         retval = \u001b[43mcfunc\u001b[49m\u001b[43m(\u001b[49m\u001b[43m*\u001b[49m\u001b[43margs\u001b[49m\u001b[43m,\u001b[49m\u001b[43m \u001b[49m\u001b[43m*\u001b[49m\u001b[43m*\u001b[49m\u001b[43mkwargs\u001b[49m\u001b[43m)\u001b[49m\n\u001b[32m     73\u001b[39m     \u001b[38;5;28;01mexcept\u001b[39;00m \u001b[38;5;167;01mTypeError\u001b[39;00m \u001b[38;5;28;01mas\u001b[39;00m e:\n\u001b[32m     74\u001b[39m         \u001b[38;5;28;01mif\u001b[39;00m \u001b[38;5;129;01mnot\u001b[39;00m e.args \u001b[38;5;129;01mor\u001b[39;00m \u001b[38;5;129;01mnot\u001b[39;00m e.args[\u001b[32m0\u001b[39m].startswith(\u001b[33m'\u001b[39m\u001b[33munhashable type:\u001b[39m\u001b[33m'\u001b[39m):\n",
      "\u001b[36mFile \u001b[39m\u001b[32m/usr/local/lib/python3.13/site-packages/sympy/core/basic.py:1285\u001b[39m, in \u001b[36mBasic._subs\u001b[39m\u001b[34m(self, old, new, **hints)\u001b[39m\n\u001b[32m   1283\u001b[39m rv = \u001b[38;5;28mself\u001b[39m._eval_subs(old, new)\n\u001b[32m   1284\u001b[39m \u001b[38;5;28;01mif\u001b[39;00m rv \u001b[38;5;129;01mis\u001b[39;00m \u001b[38;5;28;01mNone\u001b[39;00m:\n\u001b[32m-> \u001b[39m\u001b[32m1285\u001b[39m     rv = \u001b[43mfallback\u001b[49m\u001b[43m(\u001b[49m\u001b[38;5;28;43mself\u001b[39;49m\u001b[43m,\u001b[49m\u001b[43m \u001b[49m\u001b[43mold\u001b[49m\u001b[43m,\u001b[49m\u001b[43m \u001b[49m\u001b[43mnew\u001b[49m\u001b[43m)\u001b[49m\n\u001b[32m   1286\u001b[39m \u001b[38;5;28;01mreturn\u001b[39;00m rv\n",
      "\u001b[36mFile \u001b[39m\u001b[32m/usr/local/lib/python3.13/site-packages/sympy/core/basic.py:1257\u001b[39m, in \u001b[36mBasic._subs.<locals>.fallback\u001b[39m\u001b[34m(self, old, new)\u001b[39m\n\u001b[32m   1255\u001b[39m \u001b[38;5;28;01mif\u001b[39;00m \u001b[38;5;129;01mnot\u001b[39;00m \u001b[38;5;28mhasattr\u001b[39m(arg, \u001b[33m'\u001b[39m\u001b[33m_eval_subs\u001b[39m\u001b[33m'\u001b[39m):\n\u001b[32m   1256\u001b[39m     \u001b[38;5;28;01mcontinue\u001b[39;00m\n\u001b[32m-> \u001b[39m\u001b[32m1257\u001b[39m arg = \u001b[43marg\u001b[49m\u001b[43m.\u001b[49m\u001b[43m_subs\u001b[49m\u001b[43m(\u001b[49m\u001b[43mold\u001b[49m\u001b[43m,\u001b[49m\u001b[43m \u001b[49m\u001b[43mnew\u001b[49m\u001b[43m,\u001b[49m\u001b[43m \u001b[49m\u001b[43m*\u001b[49m\u001b[43m*\u001b[49m\u001b[43mhints\u001b[49m\u001b[43m)\u001b[49m\n\u001b[32m   1258\u001b[39m \u001b[38;5;28;01mif\u001b[39;00m \u001b[38;5;129;01mnot\u001b[39;00m _aresame(arg, args[i]):\n\u001b[32m   1259\u001b[39m     hit = \u001b[38;5;28;01mTrue\u001b[39;00m\n",
      "\u001b[36mFile \u001b[39m\u001b[32m/usr/local/lib/python3.13/site-packages/sympy/core/cache.py:72\u001b[39m, in \u001b[36m__cacheit.<locals>.func_wrapper.<locals>.wrapper\u001b[39m\u001b[34m(*args, **kwargs)\u001b[39m\n\u001b[32m     69\u001b[39m \u001b[38;5;129m@wraps\u001b[39m(func)\n\u001b[32m     70\u001b[39m \u001b[38;5;28;01mdef\u001b[39;00m\u001b[38;5;250m \u001b[39m\u001b[34mwrapper\u001b[39m(*args, **kwargs):\n\u001b[32m     71\u001b[39m     \u001b[38;5;28;01mtry\u001b[39;00m:\n\u001b[32m---> \u001b[39m\u001b[32m72\u001b[39m         retval = \u001b[43mcfunc\u001b[49m\u001b[43m(\u001b[49m\u001b[43m*\u001b[49m\u001b[43margs\u001b[49m\u001b[43m,\u001b[49m\u001b[43m \u001b[49m\u001b[43m*\u001b[49m\u001b[43m*\u001b[49m\u001b[43mkwargs\u001b[49m\u001b[43m)\u001b[49m\n\u001b[32m     73\u001b[39m     \u001b[38;5;28;01mexcept\u001b[39;00m \u001b[38;5;167;01mTypeError\u001b[39;00m \u001b[38;5;28;01mas\u001b[39;00m e:\n\u001b[32m     74\u001b[39m         \u001b[38;5;28;01mif\u001b[39;00m \u001b[38;5;129;01mnot\u001b[39;00m e.args \u001b[38;5;129;01mor\u001b[39;00m \u001b[38;5;129;01mnot\u001b[39;00m e.args[\u001b[32m0\u001b[39m].startswith(\u001b[33m'\u001b[39m\u001b[33munhashable type:\u001b[39m\u001b[33m'\u001b[39m):\n",
      "\u001b[36mFile \u001b[39m\u001b[32m/usr/local/lib/python3.13/site-packages/sympy/core/basic.py:1285\u001b[39m, in \u001b[36mBasic._subs\u001b[39m\u001b[34m(self, old, new, **hints)\u001b[39m\n\u001b[32m   1283\u001b[39m rv = \u001b[38;5;28mself\u001b[39m._eval_subs(old, new)\n\u001b[32m   1284\u001b[39m \u001b[38;5;28;01mif\u001b[39;00m rv \u001b[38;5;129;01mis\u001b[39;00m \u001b[38;5;28;01mNone\u001b[39;00m:\n\u001b[32m-> \u001b[39m\u001b[32m1285\u001b[39m     rv = \u001b[43mfallback\u001b[49m\u001b[43m(\u001b[49m\u001b[38;5;28;43mself\u001b[39;49m\u001b[43m,\u001b[49m\u001b[43m \u001b[49m\u001b[43mold\u001b[49m\u001b[43m,\u001b[49m\u001b[43m \u001b[49m\u001b[43mnew\u001b[49m\u001b[43m)\u001b[49m\n\u001b[32m   1286\u001b[39m \u001b[38;5;28;01mreturn\u001b[39;00m rv\n",
      "\u001b[36mFile \u001b[39m\u001b[32m/usr/local/lib/python3.13/site-packages/sympy/core/basic.py:1257\u001b[39m, in \u001b[36mBasic._subs.<locals>.fallback\u001b[39m\u001b[34m(self, old, new)\u001b[39m\n\u001b[32m   1255\u001b[39m \u001b[38;5;28;01mif\u001b[39;00m \u001b[38;5;129;01mnot\u001b[39;00m \u001b[38;5;28mhasattr\u001b[39m(arg, \u001b[33m'\u001b[39m\u001b[33m_eval_subs\u001b[39m\u001b[33m'\u001b[39m):\n\u001b[32m   1256\u001b[39m     \u001b[38;5;28;01mcontinue\u001b[39;00m\n\u001b[32m-> \u001b[39m\u001b[32m1257\u001b[39m arg = \u001b[43marg\u001b[49m\u001b[43m.\u001b[49m\u001b[43m_subs\u001b[49m\u001b[43m(\u001b[49m\u001b[43mold\u001b[49m\u001b[43m,\u001b[49m\u001b[43m \u001b[49m\u001b[43mnew\u001b[49m\u001b[43m,\u001b[49m\u001b[43m \u001b[49m\u001b[43m*\u001b[49m\u001b[43m*\u001b[49m\u001b[43mhints\u001b[49m\u001b[43m)\u001b[49m\n\u001b[32m   1258\u001b[39m \u001b[38;5;28;01mif\u001b[39;00m \u001b[38;5;129;01mnot\u001b[39;00m _aresame(arg, args[i]):\n\u001b[32m   1259\u001b[39m     hit = \u001b[38;5;28;01mTrue\u001b[39;00m\n",
      "\u001b[36mFile \u001b[39m\u001b[32m/usr/local/lib/python3.13/site-packages/sympy/core/cache.py:72\u001b[39m, in \u001b[36m__cacheit.<locals>.func_wrapper.<locals>.wrapper\u001b[39m\u001b[34m(*args, **kwargs)\u001b[39m\n\u001b[32m     69\u001b[39m \u001b[38;5;129m@wraps\u001b[39m(func)\n\u001b[32m     70\u001b[39m \u001b[38;5;28;01mdef\u001b[39;00m\u001b[38;5;250m \u001b[39m\u001b[34mwrapper\u001b[39m(*args, **kwargs):\n\u001b[32m     71\u001b[39m     \u001b[38;5;28;01mtry\u001b[39;00m:\n\u001b[32m---> \u001b[39m\u001b[32m72\u001b[39m         retval = \u001b[43mcfunc\u001b[49m\u001b[43m(\u001b[49m\u001b[43m*\u001b[49m\u001b[43margs\u001b[49m\u001b[43m,\u001b[49m\u001b[43m \u001b[49m\u001b[43m*\u001b[49m\u001b[43m*\u001b[49m\u001b[43mkwargs\u001b[49m\u001b[43m)\u001b[49m\n\u001b[32m     73\u001b[39m     \u001b[38;5;28;01mexcept\u001b[39;00m \u001b[38;5;167;01mTypeError\u001b[39;00m \u001b[38;5;28;01mas\u001b[39;00m e:\n\u001b[32m     74\u001b[39m         \u001b[38;5;28;01mif\u001b[39;00m \u001b[38;5;129;01mnot\u001b[39;00m e.args \u001b[38;5;129;01mor\u001b[39;00m \u001b[38;5;129;01mnot\u001b[39;00m e.args[\u001b[32m0\u001b[39m].startswith(\u001b[33m'\u001b[39m\u001b[33munhashable type:\u001b[39m\u001b[33m'\u001b[39m):\n",
      "\u001b[36mFile \u001b[39m\u001b[32m/usr/local/lib/python3.13/site-packages/sympy/core/basic.py:1285\u001b[39m, in \u001b[36mBasic._subs\u001b[39m\u001b[34m(self, old, new, **hints)\u001b[39m\n\u001b[32m   1283\u001b[39m rv = \u001b[38;5;28mself\u001b[39m._eval_subs(old, new)\n\u001b[32m   1284\u001b[39m \u001b[38;5;28;01mif\u001b[39;00m rv \u001b[38;5;129;01mis\u001b[39;00m \u001b[38;5;28;01mNone\u001b[39;00m:\n\u001b[32m-> \u001b[39m\u001b[32m1285\u001b[39m     rv = \u001b[43mfallback\u001b[49m\u001b[43m(\u001b[49m\u001b[38;5;28;43mself\u001b[39;49m\u001b[43m,\u001b[49m\u001b[43m \u001b[49m\u001b[43mold\u001b[49m\u001b[43m,\u001b[49m\u001b[43m \u001b[49m\u001b[43mnew\u001b[49m\u001b[43m)\u001b[49m\n\u001b[32m   1286\u001b[39m \u001b[38;5;28;01mreturn\u001b[39;00m rv\n",
      "\u001b[36mFile \u001b[39m\u001b[32m/usr/local/lib/python3.13/site-packages/sympy/core/basic.py:1257\u001b[39m, in \u001b[36mBasic._subs.<locals>.fallback\u001b[39m\u001b[34m(self, old, new)\u001b[39m\n\u001b[32m   1255\u001b[39m \u001b[38;5;28;01mif\u001b[39;00m \u001b[38;5;129;01mnot\u001b[39;00m \u001b[38;5;28mhasattr\u001b[39m(arg, \u001b[33m'\u001b[39m\u001b[33m_eval_subs\u001b[39m\u001b[33m'\u001b[39m):\n\u001b[32m   1256\u001b[39m     \u001b[38;5;28;01mcontinue\u001b[39;00m\n\u001b[32m-> \u001b[39m\u001b[32m1257\u001b[39m arg = \u001b[43marg\u001b[49m\u001b[43m.\u001b[49m\u001b[43m_subs\u001b[49m\u001b[43m(\u001b[49m\u001b[43mold\u001b[49m\u001b[43m,\u001b[49m\u001b[43m \u001b[49m\u001b[43mnew\u001b[49m\u001b[43m,\u001b[49m\u001b[43m \u001b[49m\u001b[43m*\u001b[49m\u001b[43m*\u001b[49m\u001b[43mhints\u001b[49m\u001b[43m)\u001b[49m\n\u001b[32m   1258\u001b[39m \u001b[38;5;28;01mif\u001b[39;00m \u001b[38;5;129;01mnot\u001b[39;00m _aresame(arg, args[i]):\n\u001b[32m   1259\u001b[39m     hit = \u001b[38;5;28;01mTrue\u001b[39;00m\n",
      "\u001b[36mFile \u001b[39m\u001b[32m/usr/local/lib/python3.13/site-packages/sympy/core/cache.py:72\u001b[39m, in \u001b[36m__cacheit.<locals>.func_wrapper.<locals>.wrapper\u001b[39m\u001b[34m(*args, **kwargs)\u001b[39m\n\u001b[32m     69\u001b[39m \u001b[38;5;129m@wraps\u001b[39m(func)\n\u001b[32m     70\u001b[39m \u001b[38;5;28;01mdef\u001b[39;00m\u001b[38;5;250m \u001b[39m\u001b[34mwrapper\u001b[39m(*args, **kwargs):\n\u001b[32m     71\u001b[39m     \u001b[38;5;28;01mtry\u001b[39;00m:\n\u001b[32m---> \u001b[39m\u001b[32m72\u001b[39m         retval = \u001b[43mcfunc\u001b[49m\u001b[43m(\u001b[49m\u001b[43m*\u001b[49m\u001b[43margs\u001b[49m\u001b[43m,\u001b[49m\u001b[43m \u001b[49m\u001b[43m*\u001b[49m\u001b[43m*\u001b[49m\u001b[43mkwargs\u001b[49m\u001b[43m)\u001b[49m\n\u001b[32m     73\u001b[39m     \u001b[38;5;28;01mexcept\u001b[39;00m \u001b[38;5;167;01mTypeError\u001b[39;00m \u001b[38;5;28;01mas\u001b[39;00m e:\n\u001b[32m     74\u001b[39m         \u001b[38;5;28;01mif\u001b[39;00m \u001b[38;5;129;01mnot\u001b[39;00m e.args \u001b[38;5;129;01mor\u001b[39;00m \u001b[38;5;129;01mnot\u001b[39;00m e.args[\u001b[32m0\u001b[39m].startswith(\u001b[33m'\u001b[39m\u001b[33munhashable type:\u001b[39m\u001b[33m'\u001b[39m):\n",
      "\u001b[36mFile \u001b[39m\u001b[32m/usr/local/lib/python3.13/site-packages/sympy/core/basic.py:1285\u001b[39m, in \u001b[36mBasic._subs\u001b[39m\u001b[34m(self, old, new, **hints)\u001b[39m\n\u001b[32m   1283\u001b[39m rv = \u001b[38;5;28mself\u001b[39m._eval_subs(old, new)\n\u001b[32m   1284\u001b[39m \u001b[38;5;28;01mif\u001b[39;00m rv \u001b[38;5;129;01mis\u001b[39;00m \u001b[38;5;28;01mNone\u001b[39;00m:\n\u001b[32m-> \u001b[39m\u001b[32m1285\u001b[39m     rv = \u001b[43mfallback\u001b[49m\u001b[43m(\u001b[49m\u001b[38;5;28;43mself\u001b[39;49m\u001b[43m,\u001b[49m\u001b[43m \u001b[49m\u001b[43mold\u001b[49m\u001b[43m,\u001b[49m\u001b[43m \u001b[49m\u001b[43mnew\u001b[49m\u001b[43m)\u001b[49m\n\u001b[32m   1286\u001b[39m \u001b[38;5;28;01mreturn\u001b[39;00m rv\n",
      "\u001b[36mFile \u001b[39m\u001b[32m/usr/local/lib/python3.13/site-packages/sympy/core/basic.py:1262\u001b[39m, in \u001b[36mBasic._subs.<locals>.fallback\u001b[39m\u001b[34m(self, old, new)\u001b[39m\n\u001b[32m   1260\u001b[39m         args[i] = arg\n\u001b[32m   1261\u001b[39m \u001b[38;5;28;01mif\u001b[39;00m hit:\n\u001b[32m-> \u001b[39m\u001b[32m1262\u001b[39m     rv = \u001b[38;5;28;43mself\u001b[39;49m\u001b[43m.\u001b[49m\u001b[43mfunc\u001b[49m\u001b[43m(\u001b[49m\u001b[43m*\u001b[49m\u001b[43margs\u001b[49m\u001b[43m)\u001b[49m\n\u001b[32m   1263\u001b[39m     hack2 = hints.get(\u001b[33m'\u001b[39m\u001b[33mhack2\u001b[39m\u001b[33m'\u001b[39m, \u001b[38;5;28;01mFalse\u001b[39;00m)\n\u001b[32m   1264\u001b[39m     \u001b[38;5;28;01mif\u001b[39;00m hack2 \u001b[38;5;129;01mand\u001b[39;00m \u001b[38;5;28mself\u001b[39m.is_Mul \u001b[38;5;129;01mand\u001b[39;00m \u001b[38;5;129;01mnot\u001b[39;00m rv.is_Mul:  \u001b[38;5;66;03m# 2-arg hack\u001b[39;00m\n",
      "\u001b[36mFile \u001b[39m\u001b[32m/usr/local/lib/python3.13/site-packages/sympy/core/cache.py:72\u001b[39m, in \u001b[36m__cacheit.<locals>.func_wrapper.<locals>.wrapper\u001b[39m\u001b[34m(*args, **kwargs)\u001b[39m\n\u001b[32m     69\u001b[39m \u001b[38;5;129m@wraps\u001b[39m(func)\n\u001b[32m     70\u001b[39m \u001b[38;5;28;01mdef\u001b[39;00m\u001b[38;5;250m \u001b[39m\u001b[34mwrapper\u001b[39m(*args, **kwargs):\n\u001b[32m     71\u001b[39m     \u001b[38;5;28;01mtry\u001b[39;00m:\n\u001b[32m---> \u001b[39m\u001b[32m72\u001b[39m         retval = \u001b[43mcfunc\u001b[49m\u001b[43m(\u001b[49m\u001b[43m*\u001b[49m\u001b[43margs\u001b[49m\u001b[43m,\u001b[49m\u001b[43m \u001b[49m\u001b[43m*\u001b[49m\u001b[43m*\u001b[49m\u001b[43mkwargs\u001b[49m\u001b[43m)\u001b[49m\n\u001b[32m     73\u001b[39m     \u001b[38;5;28;01mexcept\u001b[39;00m \u001b[38;5;167;01mTypeError\u001b[39;00m \u001b[38;5;28;01mas\u001b[39;00m e:\n\u001b[32m     74\u001b[39m         \u001b[38;5;28;01mif\u001b[39;00m \u001b[38;5;129;01mnot\u001b[39;00m e.args \u001b[38;5;129;01mor\u001b[39;00m \u001b[38;5;129;01mnot\u001b[39;00m e.args[\u001b[32m0\u001b[39m].startswith(\u001b[33m'\u001b[39m\u001b[33munhashable type:\u001b[39m\u001b[33m'\u001b[39m):\n",
      "\u001b[36mFile \u001b[39m\u001b[32m/usr/local/lib/python3.13/site-packages/sympy/core/operations.py:108\u001b[39m, in \u001b[36mAssocOp.__new__\u001b[39m\u001b[34m(cls, evaluate, _sympify, *args)\u001b[39m\n\u001b[32m    105\u001b[39m \u001b[38;5;28;01mif\u001b[39;00m \u001b[38;5;28mlen\u001b[39m(args) == \u001b[32m1\u001b[39m:\n\u001b[32m    106\u001b[39m     \u001b[38;5;28;01mreturn\u001b[39;00m args[\u001b[32m0\u001b[39m]\n\u001b[32m--> \u001b[39m\u001b[32m108\u001b[39m c_part, nc_part, order_symbols = \u001b[38;5;28;43mcls\u001b[39;49m\u001b[43m.\u001b[49m\u001b[43mflatten\u001b[49m\u001b[43m(\u001b[49m\u001b[43margs\u001b[49m\u001b[43m)\u001b[49m\n\u001b[32m    109\u001b[39m is_commutative = \u001b[38;5;129;01mnot\u001b[39;00m nc_part\n\u001b[32m    110\u001b[39m obj = \u001b[38;5;28mcls\u001b[39m._from_args(c_part + nc_part, is_commutative)\n",
      "\u001b[36mFile \u001b[39m\u001b[32m/usr/local/lib/python3.13/site-packages/sympy/core/mul.py:294\u001b[39m, in \u001b[36mMul.flatten\u001b[39m\u001b[34m(cls, seq)\u001b[39m\n\u001b[32m    292\u001b[39m \u001b[38;5;28;01massert\u001b[39;00m a \u001b[38;5;129;01mis\u001b[39;00m \u001b[38;5;129;01mnot\u001b[39;00m S.One\n\u001b[32m    293\u001b[39m \u001b[38;5;28;01mif\u001b[39;00m a.is_Rational \u001b[38;5;129;01mand\u001b[39;00m \u001b[38;5;129;01mnot\u001b[39;00m a.is_zero:\n\u001b[32m--> \u001b[39m\u001b[32m294\u001b[39m     r, b = \u001b[43mb\u001b[49m\u001b[43m.\u001b[49m\u001b[43mas_coeff_Mul\u001b[49m()\n\u001b[32m    295\u001b[39m     \u001b[38;5;28;01mif\u001b[39;00m b.is_Add:\n\u001b[32m    296\u001b[39m         \u001b[38;5;28;01mif\u001b[39;00m r \u001b[38;5;129;01mis\u001b[39;00m \u001b[38;5;129;01mnot\u001b[39;00m S.One:  \u001b[38;5;66;03m# 2-arg hack\u001b[39;00m\n\u001b[32m    297\u001b[39m             \u001b[38;5;66;03m# leave the Mul as a Mul?\u001b[39;00m\n",
      "\u001b[31mAttributeError\u001b[39m: 'Dict' object has no attribute 'as_coeff_Mul'"
     ]
    }
   ],
   "source": [
    "\n",
    "import sympy as sym\n",
    "\n",
    "# \"x\"を変数とする\n",
    "x = sym.Symbol(\"x\")\n",
    "# 関数を決定\n",
    "expr = (x+y+z-2)**2+(4*x+2*y+z-3)**2+(9*x+3*y+z-10)**2+(16*x+4*y+z-15)**2\n",
    "print(\"f(x) = {}\".format(expr))\n",
    " \n",
    "# \"x\"で微分する\n",
    "diff_1 = sym.diff(expr, x)\n",
    "print(\"f'(x) = {}\".format(diff_1))\n",
    "\n",
    "# \"x\"で微分する（2階微分）\n",
    "diff_2 = sym.diff(diff_1, x)\n",
    "print(\"f''(x) = {}\\n\".format(diff_2))\n",
    "\n",
    "# f'(x) = 0を解く。極値が求まる\n",
    "critical_points = sym.solve(diff_1)\n",
    "\n",
    "# すべての極値に対する処理\n",
    "for critical_point in critical_points:\n",
    "    # f(critical_point)を求める\n",
    "    f_x = expr.subs(x, critical_point)\n",
    "\n",
    "    # f''(critical_point)を求める。（これは加速度に相当）\n",
    "    alpha = diff_2.subs(x, critical_point)\n",
    "\n",
    "    # 加速度が負の時\n",
    "    if alpha < 0:\n",
    "        print(\"x = {}のとき：極大値{}をとる\".format(critical_point, f_x))\n",
    "    elif alpha > 0:\n",
    "        print(\"x = {}のとき：極小値{}をとる\".format(critical_point, f_x))\n"
   ]
  },
  {
   "cell_type": "code",
   "execution_count": null,
   "id": "2ab7ca46-9400-4656-9e11-276f1dc72dee",
   "metadata": {},
   "outputs": [],
   "source": []
  }
 ],
 "metadata": {
  "kernelspec": {
   "display_name": "Python 3 (ipykernel)",
   "language": "python",
   "name": "python3"
  },
  "language_info": {
   "codemirror_mode": {
    "name": "ipython",
    "version": 3
   },
   "file_extension": ".py",
   "mimetype": "text/x-python",
   "name": "python",
   "nbconvert_exporter": "python",
   "pygments_lexer": "ipython3",
   "version": "3.13.3"
  }
 },
 "nbformat": 4,
 "nbformat_minor": 5
}
